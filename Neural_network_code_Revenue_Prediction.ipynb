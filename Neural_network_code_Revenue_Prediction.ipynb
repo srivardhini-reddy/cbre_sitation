{
  "nbformat": 4,
  "nbformat_minor": 0,
  "metadata": {
    "colab": {
      "provenance": []
    },
    "kernelspec": {
      "name": "python3",
      "display_name": "Python 3"
    },
    "language_info": {
      "name": "python"
    }
  },
  "cells": [
    {
      "cell_type": "code",
      "source": [
        "import pandas as pd\n",
        "import numpy as np\n",
        "from sklearn.preprocessing import LabelEncoder\n",
        "from keras.models import Sequential\n",
        "from keras.layers import Dense\n",
        "from sklearn.model_selection import train_test_split\n",
        "\n",
        "# Load the data into a pandas DataFrame\n",
        "df = pd.read_excel(\"trynn.xlsx\")\n",
        "\n",
        "# Preprocess the data\n",
        "# Encode the categorical variables 'NAICS Description' and 'County' using LabelEncoder\n",
        "le = LabelEncoder()\n",
        "df['NAICS Description'] = le.fit_transform(df['NAICS Description'])\n",
        "df['County'] = le.fit_transform(df['County'])\n",
        "\n",
        "# Split the data into training and test sets\n",
        "X = df[['NAICS Description', 'County', 'Firms']]\n",
        "y = df['Revenue']\n",
        "X_train, X_test, y_train, y_test = train_test_split(X, y, test_size=0.2, random_state=42)\n",
        "\n",
        "# Build the model\n",
        "model = Sequential()\n",
        "model.add(Dense(64, input_dim=3, activation='relu'))\n",
        "model.add(Dense(32, activation='relu'))\n",
        "model.add(Dense(1, activation='linear'))\n",
        "\n",
        "# Compile the model\n",
        "model.compile(loss='mean_squared_error', optimizer='adam')\n",
        "\n",
        "# Train the model\n",
        "model.fit(X_train, y_train, epochs=15, batch_size=32)\n",
        "\n",
        "# Evaluate the model on the test data\n",
        "test_loss = model.evaluate(X_test, y_test)\n",
        "print(\"Test loss:\", test_loss)\n",
        "y_pred = model.predict(X_test)\n",
        "\n",
        "# Print the predictions\n",
        "print(\"Predictions:\", y_pred)\n"
      ],
      "metadata": {
        "id": "gFEafjxDW1vU"
      },
      "execution_count": null,
      "outputs": []
    },
    {
      "cell_type": "code",
      "source": [
        "import pickle\n",
        "\n",
        "# Save the model to a pickle file\n",
        "with open(\"model.pkl\", \"wb\") as file:\n",
        "    pickle.dump(model, file)\n",
        "\n",
        "# Load the model from a pickle file\n",
        "with open(\"model.pkl\", \"rb\") as file:\n",
        "    model = pickle.load(file)\n",
        "\n",
        "# Use the model to make predictions\n",
        "X_new = np.array([[\"Educational Services\",\"Dallas\" , 3000]])\n",
        "le = LabelEncoder()\n",
        "X_new = le.fit_transform(df['NAICS Description'])\n",
        "df['County'] = le.fit_transform(df['County'])\n",
        "y_pred = model.predict(X_new)\n",
        "print(y_pred)\n",
        "\n",
        "\n",
        "\n"
      ],
      "metadata": {
        "colab": {
          "base_uri": "https://localhost:8080/"
        },
        "id": "r9ch1mLQW1x-",
        "outputId": "7988e561-face-4f43-dc30-a86d7aa249ad"
      },
      "execution_count": null,
      "outputs": [
        {
          "output_type": "stream",
          "name": "stdout",
          "text": [
            "Keras weights file (<HDF5 file \"variables.h5\" (mode r+)>) saving:\n",
            "...layers\n",
            "......dense\n",
            ".........vars\n",
            "............0\n",
            "............1\n",
            "......dense_1\n",
            ".........vars\n",
            "............0\n",
            "............1\n",
            "......dense_2\n",
            ".........vars\n",
            "............0\n",
            "............1\n",
            "...metrics\n",
            "......mean\n",
            ".........vars\n",
            "............0\n",
            "............1\n",
            "...optimizer\n",
            "......vars\n",
            ".........0\n",
            ".........1\n",
            ".........10\n",
            ".........11\n",
            ".........12\n",
            ".........2\n",
            ".........3\n",
            ".........4\n",
            ".........5\n",
            ".........6\n",
            ".........7\n",
            ".........8\n",
            ".........9\n",
            "...vars\n",
            "Keras model archive saving:\n",
            "File Name                                             Modified             Size\n",
            "metadata.json                                  2023-02-12 11:53:34           64\n",
            "variables.h5                                   2023-02-12 11:53:34        49248\n",
            "config.json                                    2023-02-12 11:53:34         1811\n",
            "Keras model archive loading:\n",
            "File Name                                             Modified             Size\n",
            "metadata.json                                  2023-02-12 11:53:34           64\n",
            "variables.h5                                   2023-02-12 11:53:34        49248\n",
            "config.json                                    2023-02-12 11:53:34         1811\n",
            "Keras weights file (<HDF5 file \"variables.h5\" (mode r)>) loading:\n",
            "...layers\n",
            "......dense\n",
            ".........vars\n",
            "............0\n",
            "............1\n",
            "......dense_1\n",
            ".........vars\n",
            "............0\n",
            "............1\n",
            "......dense_2\n",
            ".........vars\n",
            "............0\n",
            "............1\n",
            "...metrics\n",
            "......mean\n",
            ".........vars\n",
            "............0\n",
            "............1\n",
            "...optimizer\n",
            "......vars\n",
            ".........0\n",
            ".........1\n",
            ".........10\n",
            ".........11\n",
            ".........12\n",
            ".........2\n",
            ".........3\n",
            ".........4\n",
            ".........5\n",
            ".........6\n",
            ".........7\n",
            ".........8\n",
            ".........9\n",
            "...vars\n",
            "1/1 [==============================] - 0s 116ms/step\n",
            "[[18840.422]]\n"
          ]
        }
      ]
    },
    {
      "cell_type": "code",
      "source": [
        "X_new = [\"Educational Services\",\"Dallas\" , 3000]\n",
        "\n",
        "\n",
        "\n",
        "# Create an instance of the LabelEncoder class\n",
        "encoder = LabelEncoder()\n",
        "\n",
        "# Fit the encoder to the categorical values\n",
        "encoder.fit(X_new)\n",
        "\n",
        "# Encode the categorical values\n",
        "encoded_values = encoder.transform(X_new)\n",
        "\n",
        "# Reshape the encoded values to be suitable for prediction\n",
        "encoded_values = encoded_values.reshape(1, -1)\n",
        "\n",
        "# Predict the target using the pre-trained neural network model\n",
        "prediction = model.predict(encoded_values)\n",
        "\n",
        "# Print the prediction\n",
        "print(\"Prediction:\", prediction)"
      ],
      "metadata": {
        "colab": {
          "base_uri": "https://localhost:8080/"
        },
        "id": "HKXMlHsWpo0v",
        "outputId": "d594a373-da1e-4c25-81b0-e5ef2642f58b"
      },
      "execution_count": 37,
      "outputs": [
        {
          "output_type": "stream",
          "name": "stdout",
          "text": [
            "1/1 [==============================] - 0s 25ms/step\n",
            "Prediction: [[21248.033]]\n"
          ]
        }
      ]
    },
    {
      "cell_type": "code",
      "source": [
        "X_new = [\"Education\",\"Dallas\" , 3000]\n",
        "\n",
        "\n",
        "\n",
        "# Create an instance of the LabelEncoder class\n",
        "encoder = LabelEncoder()\n",
        "\n",
        "# Fit the encoder to the categorical values\n",
        "encoder.fit(X_new)\n",
        "\n",
        "# Encode the categorical values\n",
        "encoded_values = encoder.transform(X_new)\n",
        "\n",
        "# Reshape the encoded values to be suitable for prediction\n",
        "encoded_values = encoded_values.reshape(1, -1)\n",
        "\n",
        "# Predict the target using the pre-trained neural network model\n",
        "prediction = model.predict(encoded_values)\n",
        "\n",
        "# Print the prediction\n",
        "print(\"Prediction:\", prediction)"
      ],
      "metadata": {
        "id": "8bsu5accW10i",
        "colab": {
          "base_uri": "https://localhost:8080/"
        },
        "outputId": "e34a380f-971f-47a8-950e-9046f3f6c95a"
      },
      "execution_count": 38,
      "outputs": [
        {
          "output_type": "stream",
          "name": "stdout",
          "text": [
            "1/1 [==============================] - 0s 29ms/step\n",
            "Prediction: [[21248.033]]\n"
          ]
        }
      ]
    },
    {
      "cell_type": "code",
      "source": [],
      "metadata": {
        "id": "RSwga_HIW12_"
      },
      "execution_count": null,
      "outputs": []
    }
  ]
}